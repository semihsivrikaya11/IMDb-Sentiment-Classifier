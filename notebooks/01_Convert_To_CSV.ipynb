{
 "cells": [
  {
   "cell_type": "code",
   "execution_count": 1,
   "id": "ddfb45a0-a5c2-4c56-a637-473e8d4aab9b",
   "metadata": {},
   "outputs": [],
   "source": [
    "import os\n",
    "import pandas as pd"
   ]
  },
  {
   "cell_type": "code",
   "execution_count": 4,
   "id": "5cc9c665-98fd-4296-93e3-eb989bfa729e",
   "metadata": {},
   "outputs": [],
   "source": [
    "def load_imdb_data(data_dir):\n",
    "    \"\"\"\n",
    "    Loads raw IMDb review text files from 'pos' and 'neg' subdirectories\n",
    "    and returns a pandas DataFrame with 'text' and 'label' columns.\n",
    "    \"\"\"\n",
    "    data = {'text': [], 'label': []}\n",
    "    \n",
    "    for label_type in ['pos', 'neg']:\n",
    "        folder = os.path.join(data_dir, label_type)\n",
    "        label = 1 if label_type == 'pos' else 0\n",
    "        \n",
    "        for filename in os.listdir(folder):\n",
    "            if filename.endswith(\".txt\"):\n",
    "                with open(os.path.join(folder, filename), encoding='utf-8') as f:\n",
    "                    data['text'].append(f.read())\n",
    "                    data['label'].append(label)\n",
    "    \n",
    "    return pd.DataFrame(data)"
   ]
  },
  {
   "cell_type": "code",
   "execution_count": 5,
   "id": "0b57232f-9af8-4ead-932b-4782499d347b",
   "metadata": {},
   "outputs": [
    {
     "name": "stdout",
     "output_type": "stream",
     "text": [
      "Loading training data...\n",
      "Saved train.csv\n"
     ]
    }
   ],
   "source": [
    "train_path = \"../data/raw/aclImdb/train\"\n",
    "os.makedirs(\"../data/processed\", exist_ok=True)\n",
    "\n",
    "print(\"Loading training data...\")\n",
    "df_train = load_imdb_data(train_path)\n",
    "df_train.to_csv(\"../data/processed/train.csv\", index=False)\n",
    "print(\"Saved train.csv\")"
   ]
  },
  {
   "cell_type": "code",
   "execution_count": null,
   "id": "05eb09f1-6c51-465b-a1ee-d5ce2f419c76",
   "metadata": {},
   "outputs": [],
   "source": []
  }
 ],
 "metadata": {
  "kernelspec": {
   "display_name": "Python 3 (ipykernel)",
   "language": "python",
   "name": "python3"
  },
  "language_info": {
   "codemirror_mode": {
    "name": "ipython",
    "version": 3
   },
   "file_extension": ".py",
   "mimetype": "text/x-python",
   "name": "python",
   "nbconvert_exporter": "python",
   "pygments_lexer": "ipython3",
   "version": "3.10.16"
  }
 },
 "nbformat": 4,
 "nbformat_minor": 5
}
